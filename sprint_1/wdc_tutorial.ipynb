{
 "cells": [
  {
   "cell_type": "markdown",
   "metadata": {},
   "source": [
    "# wdc: a WCPS Query Generator library for Python\n",
    "\n",
    "This library allows users to generate WCPS queries purely on Python; and users can send these queries to rasdaman servers to get the corresponding data.\n",
    "\n",
    "This notebook aims to teach the basic usage of the library."
   ]
  },
  {
   "cell_type": "markdown",
   "metadata": {},
   "source": [
    "## Creating Queries\n",
    "\n",
    "First of all, we will start with our imports.\n",
    "From the wdc package, we import Query and AxisSubset classes. Query is the class we use to generate WCPS queries, meanwhile we will utilize AxisSubset class to subset our data. "
   ]
  },
  {
   "cell_type": "code",
   "execution_count": 1,
   "metadata": {},
   "outputs": [],
   "source": [
    "# Import necessary classes\n",
    "from wdc import Query, AxisSubset"
   ]
  },
  {
   "cell_type": "markdown",
   "metadata": {},
   "source": [
    "### First Query\n",
    "\n",
    "Our first example is a very simple query, where we ask for all data of the coverage.\n",
    "\n",
    "Firstly, we will create a Query object. We do so by providing it a list of strings, which should consist of names of coverages that we want to query.\n",
    "\n",
    "We can then print the query to see its WCPS equivalent. Alternatively, user can utilize the get_wcps() method, which does the same."
   ]
  },
  {
   "cell_type": "code",
   "execution_count": 2,
   "metadata": {},
   "outputs": [
    {
     "name": "stdout",
     "output_type": "stream",
     "text": [
      "for $c in ( cloud_image )\n",
      "return ( $c  )\n"
     ]
    }
   ],
   "source": [
    "# Creating a query\n",
    "\n",
    "# First step is to create a query object, by providing list of coverages to query.\n",
    "# For this example we will utilize cloud_image coverage\n",
    "\n",
    "q = Query([\"cloud_image\"])\n",
    "\n",
    "# Printing the query object converts it to its WCPS equivalent\n",
    "\n",
    "print(q)\n",
    "\n",
    "# Alternatively, you can use the get_wcps() method to get the WCPS query as a string\n",
    "# print(q.get_wcps())"
   ]
  },
  {
   "cell_type": "markdown",
   "metadata": {},
   "source": [
    "It is also possible to go through multiple coverages in one single query. This can be done by simply adding more names to the list of coverages we provide for the Query object.\n",
    "\n",
    "Currently, it is not possible to have multiple iterator variables (i.e the $c in the WCPS query above) go through multiple coverages at the same time. Only one variable will go through all coverages that is provided."
   ]
  },
  {
   "cell_type": "code",
   "execution_count": 3,
   "metadata": {},
   "outputs": [
    {
     "name": "stdout",
     "output_type": "stream",
     "text": [
      "for $c in (cloud_image,AvgLandTemp)\n",
      "return ( $c  )\n"
     ]
    }
   ],
   "source": [
    "# We provide more than one coverage name.\n",
    "\n",
    "q = Query([\"cloud_image\", \"AvgLandTemp\"])\n",
    "\n",
    "print(q)"
   ]
  },
  {
   "cell_type": "markdown",
   "metadata": {},
   "source": [
    "### Subsetting Data\n",
    "\n",
    "We can subset the data by using the setSubset() method. We need to pass an array of AxisSubset objects, one for each axis of the datacube.\n",
    "\n",
    "We will talk more about how to get the axes of a datacube later on this tutorial, namely in the Connection object. For now, we provide you the information that \"cloud_image\" consists of the following axes:\n",
    "\n",
    "\"ansi\": [2022-08-09T08:50:00.000Z, 2022-10-17T02:05:00.000Z] \\\n",
    "\"Lat\": [29.98, 60] \\\n",
    "\"Long\": [-10, 20.02]\n",
    "\n",
    "Following the format of:\n",
    "\n",
    "\"axis\": [lowerBound, upperBound]\n",
    "\n",
    "We can provide an AxisSubset object by passing it first the name of the axis, a starting point, and a stopping point. If no stopping point is provided, AxisSubset will act only as a point that points to wherever the starting point is specified. "
   ]
  },
  {
   "cell_type": "code",
   "execution_count": 4,
   "metadata": {},
   "outputs": [
    {
     "name": "stdout",
     "output_type": "stream",
     "text": [
      "for $c in ( cloud_image )\n",
      "let $subset := [ansi(\"2022-09-01\"), Lat(45:60), Long(-5:20)]\n",
      "return ( $c  [ $subset ] )\n"
     ]
    }
   ],
   "source": [
    "# Focusing on a single coverage for now.\n",
    "q = Query([\"cloud_image\"])\n",
    "\n",
    "# Creating subsets for each axis\n",
    "ansi_subset = AxisSubset(\"ansi\", \"2022-09-01\") # This subset only consist of one point, the date 2022-09-01\n",
    "lat_subset = AxisSubset(\"Lat\", 45, 60) # This subset is a range from 45 to 60\n",
    "long_subset = AxisSubset(\"Long\", -5, 20) # A range from -5 to 20\n",
    "\n",
    "# Set the subsets to our query from above\n",
    "q.set_subset([ansi_subset, lat_subset, long_subset])\n",
    "\n",
    "# Print query, this will have the subset applied to the return value\n",
    "print(q)"
   ]
  },
  {
   "cell_type": "markdown",
   "metadata": {},
   "source": [
    "Of course, user can decide which axes they want to subset, it does not have to be all of them. It is also possible to do the subset in a single line, at the cost of readability."
   ]
  },
  {
   "cell_type": "code",
   "execution_count": 5,
   "metadata": {},
   "outputs": [
    {
     "name": "stdout",
     "output_type": "stream",
     "text": [
      "for $c in ( cloud_image )\n",
      "let $subset := [ansi(\"2022-09-01\"), Lat(45:60), Long(-5:20)]\n",
      "return ( $c  [ $subset ] )\n"
     ]
    }
   ],
   "source": [
    "q.set_subset([AxisSubset(\"ansi\", \"2022-09-01\"), AxisSubset(\"Lat\", 45, 60), AxisSubset(\"Long\", -5, 20)])\n",
    "\n",
    "# Printing the query, this will give us the same query as above.\n",
    "print(q)"
   ]
  },
  {
   "cell_type": "markdown",
   "metadata": {},
   "source": [
    "### Encoding the return value\n",
    "\n",
    "We can utilize WCPS's encode() function to encode the return value in different ways. For example, we can ask rasdaman server to return the data to us in the form of .PNG image. For this purposes, Query class has a subclass Types. It includes some of the supported output types of rasdaman, such as TIFF, PNG and JPEG."
   ]
  },
  {
   "cell_type": "code",
   "execution_count": 6,
   "metadata": {},
   "outputs": [
    {
     "name": "stdout",
     "output_type": "stream",
     "text": [
      "image/jpeg\n",
      "for $c in ( cloud_image )\n",
      "let $subset := [ansi(\"2022-09-01\"), Lat(45:60), Long(-5:20)]\n",
      "return encode ( ( $c  [ $subset ] ) , \"image/png\" )\n"
     ]
    }
   ],
   "source": [
    "# Some examples from the Query.Types subclass\n",
    "print(Query.Types.jpeg) # Prints \"image/jpeg\"\n",
    "\n",
    "\n",
    "# Continuing from the previous query\n",
    "# We set a return type for our query\n",
    "q.encode(Query.Types.png)\n",
    "print(q)"
   ]
  },
  {
   "cell_type": "markdown",
   "metadata": {},
   "source": [
    "Lastly, we can manually define what our query will return. We do so by utilizing the set_return_value() method.\n",
    "\n",
    "Passing a value or a string will make the query return whatever is passed."
   ]
  },
  {
   "cell_type": "code",
   "execution_count": 7,
   "metadata": {},
   "outputs": [
    {
     "name": "stdout",
     "output_type": "stream",
     "text": [
      "for $c in ( AvgLandTemp )\n",
      "return ( ( 42 )  )\n"
     ]
    }
   ],
   "source": [
    "# Creating a new query.\n",
    "life_query = Query([\"AvgLandTemp\"])\n",
    "\n",
    "life_query.set_return_value(42)\n",
    "\n",
    "print(life_query)"
   ]
  },
  {
   "cell_type": "markdown",
   "metadata": {},
   "source": [
    "### Compressing Datacube to a Single Value: Aggregation Methods\n",
    "\n",
    "\"wdc\" implements WCPS aggregation methods such as avg(), max() and min() in Python.\n",
    "\n",
    "To apply an aggregation method, we can use the set_aggregation_method() function. The aggregation methods supported by \"wdc\" is provided in Query.AggregationMethod class.\n",
    "\n",
    "Note that setting an aggregation method will make the query ignore any encoding that might have been set before. We can reset the aggregation method by calling reset_aggregation_method()."
   ]
  },
  {
   "cell_type": "code",
   "execution_count": 8,
   "metadata": {},
   "outputs": [
    {
     "name": "stdout",
     "output_type": "stream",
     "text": [
      "for $c in ( AvgLandTemp )\n",
      "let $subset := [ansi(\"2014-07\"), Lat(-20:30), Long(10:30)]\n",
      "return max ( ( $c  [ $subset ] ) )\n",
      "\n",
      "for $c in ( AvgLandTemp )\n",
      "let $subset := [ansi(\"2014-07\"), Lat(-20:30), Long(10:30)]\n",
      "return max ( ( $c  [ $subset ] ) )\n",
      "\n",
      "for $c in ( AvgLandTemp )\n",
      "let $subset := [ansi(\"2014-07\"), Lat(-20:30), Long(10:30)]\n",
      "return encode ( ( $c  [ $subset ] ) , \"image/png\" )\n",
      "\n"
     ]
    }
   ],
   "source": [
    "# Create a query\n",
    "agg_query = Query([\"AvgLandTemp\"])\n",
    "agg_query.set_subset([AxisSubset(\"ansi\", \"2014-07\"),\n",
    "                     AxisSubset(\"Lat\", -20, 30),\n",
    "                     AxisSubset(\"Long\", 10, 30)])\n",
    "\n",
    "# Set an aggregation method\n",
    "agg_query.set_aggregation_method(Query.AggregationMethod.max)\n",
    "print(agg_query)\n",
    "print() # Empty line\n",
    "\n",
    "# Query ignores the encoding because of the aggregation method\n",
    "agg_query.encode(Query.Types.png)\n",
    "print(agg_query)\n",
    "print() # Empty line\n",
    "\n",
    "# Resetting aggregation methods brings encoding back.\n",
    "agg_query.reset_aggregation_method()\n",
    "print(agg_query)\n",
    "print() # Empty line"
   ]
  },
  {
   "cell_type": "markdown",
   "metadata": {},
   "source": [
    "### Constructing Coverages\n",
    "\n",
    "We provide the Query.CoverageConstructor class to implement WCPS' powerful feature of coverage constructors. This allows users to create new coverages on the fly.\n",
    "\n",
    "A coverage constructor object has a \"name\"; a list of axises that it will contain, that users can specify with attribute \"over\"; and the values the coverage will have along its axes, i.e \"values\". We can get its WCPS equivalent by calling get_wcps() or converting it to a string.\n",
    "\n",
    "This class contains no setters as all attributes are publicly available and can be changed.\n",
    "\n",
    "When setting the return values, users have to use minimal WCPS code. The axes provide an iterator each, which is named \"$p{name of axis}\", and we can use these iterators to define values."
   ]
  },
  {
   "cell_type": "code",
   "execution_count": 9,
   "metadata": {},
   "outputs": [
    {
     "name": "stdout",
     "output_type": "stream",
     "text": [
      "coverage new_coverage\n",
      "over $px x(0:100), $py y(0:100)\n",
      "values $px + $py\n",
      "\n",
      "for $c in ( AvgLandTemp )\n",
      "return encode ( ( ( coverage new_coverage\n",
      "over $px x(0:100), $py y(0:100)\n",
      "values $px + $py )  ) , \"image/png\" )\n"
     ]
    }
   ],
   "source": [
    "# A coverage constructor.\n",
    "\n",
    "constructor = Query.CoverageConstructor(\"new_coverage\", [AxisSubset(\"x\", 0, 100), AxisSubset(\"y\", 0, 100)], \"$px + $py\")\n",
    "\n",
    "print(constructor.get_wcps())\n",
    "\n",
    "# Create a query\n",
    "constructor_query = Query([\"AvgLandTemp\"])\n",
    "\n",
    "# Set the return value to the constructor we defined\n",
    "constructor_query.set_return_value(constructor)\n",
    "\n",
    "# Encode it to png, when sent to rasdaman servers, this will return a gradient image.\n",
    "constructor_query.encode(Query.Types.png)\n",
    "\n",
    "print()\n",
    "print(constructor_query)"
   ]
  },
  {
   "cell_type": "markdown",
   "metadata": {},
   "source": [
    "### Complex Return Statements: switch-case\n",
    "\n",
    "The \"wdc\" library has a way of implementing WCPS switch statements in Python. Using the add_switch_case() method we can include different cases that return something different than the others.\n",
    "\n",
    "The function requires a boolean expression, and then a coverage expression (basically what the case will return). We can also make the case default by setting the \"default\" flag to True."
   ]
  },
  {
   "cell_type": "code",
   "execution_count": 10,
   "metadata": {},
   "outputs": [
    {
     "name": "stdout",
     "output_type": "stream",
     "text": [
      "for $c in ( AvgLandTemp )\n",
      "return encode ( ( \n",
      "switch\n",
      "case $c = 99999 return {red: 255, green: 255, blue: 255}\n",
      "case 18 > $c return {red: 0, green: 0, blue: 255}\n",
      "case 23 > $c return {red: 255, green: 255, blue: 0}\n",
      "case 30 > $c return {red: 255, green: 140, blue: 0}\n",
      "default return {red: 255, green: 0, blue: 0}\n",
      " ) , \"image/png\" )\n"
     ]
    }
   ],
   "source": [
    "# Create query\n",
    "complexQuery = Query([\"AvgLandTemp\"])\n",
    "\n",
    "# Create cases, all cases return structs with RGB values.\n",
    "complexQuery.add_switch_case(\"$c = 99999\", \"{red: 255, green: 255, blue: 255}\")\n",
    "complexQuery.add_switch_case(\"18 > $c\", \"{red: 0, green: 0, blue: 255}\")\n",
    "complexQuery.add_switch_case(\"23 > $c\", \"{red: 255, green: 255, blue: 0}\")\n",
    "complexQuery.add_switch_case(\"30 > $c\", \"{red: 255, green: 140, blue: 0}\")   \n",
    "\n",
    "# Default case, it will ignore the boolean expression\n",
    "complexQuery.add_switch_case(\"\", \"{red: 255, green: 0, blue: 0}\", default=True)\n",
    "\n",
    "complexQuery.encode(Query.Types.png)\n",
    "\n",
    "print(complexQuery)\n"
   ]
  },
  {
   "cell_type": "markdown",
   "metadata": {},
   "source": [
    "## Connections: dbc Class\n",
    "\n",
    "We provide a \"dbc\" class to manage connections to rasdaman servers, and managing the sending and receiving of the data. User can create a dbc object just by calling the constructor with the server url.\n",
    "\n",
    "We import dbc class of the wdc package"
   ]
  },
  {
   "cell_type": "code",
   "execution_count": 11,
   "metadata": {},
   "outputs": [
    {
     "name": "stdout",
     "output_type": "stream",
     "text": [
      "<wdc.dbc.dbc object at 0x000002E8D710E2D0>\n"
     ]
    }
   ],
   "source": [
    "from wdc import dbc\n",
    "\n",
    "# Create Connection object\n",
    "connection = dbc(\"https://ows.rasdaman.org/rasdaman/ows\")\n",
    "\n",
    "print(connection)"
   ]
  },
  {
   "cell_type": "markdown",
   "metadata": {},
   "source": [
    "### Sending Queries to rasdaman Servers\n",
    "\n",
    "We can send a query by utilizing a Connection object's execute_query() method. This method accepts a query as its argument, and sends this query to rasdaman servers, returning the content of the response."
   ]
  },
  {
   "cell_type": "code",
   "execution_count": 12,
   "metadata": {},
   "outputs": [
    {
     "name": "stdout",
     "output_type": "stream",
     "text": [
      "42\n"
     ]
    }
   ],
   "source": [
    "# Let us create a query from scratch\n",
    "query = Query([\"AvgLandTemp\"])\n",
    "query.set_return_value(42) # Query will return 42\n",
    "response = connection.execute_query(query)\n",
    "\n",
    "print(response)"
   ]
  },
  {
   "cell_type": "markdown",
   "metadata": {},
   "source": [
    "## Managing Data with Datacubes: dco Class\n",
    "\n",
    "The last class we will talk about is the \"dco\" class. This class manages the connections and queries together. It contains its own \"dbc\" object.\n",
    "\n",
    "We can import it from the wdc package."
   ]
  },
  {
   "cell_type": "code",
   "execution_count": 13,
   "metadata": {},
   "outputs": [],
   "source": [
    "from wdc import dco"
   ]
  },
  {
   "cell_type": "markdown",
   "metadata": {},
   "source": [
    "### Creating a Datacube Object\n",
    "\n",
    "We can create a Datacube object by passing query and connection to the constructor."
   ]
  },
  {
   "cell_type": "code",
   "execution_count": 14,
   "metadata": {},
   "outputs": [
    {
     "name": "stdout",
     "output_type": "stream",
     "text": [
      "<wdc.dco.dco object at 0x000002E8D6C65290>\n"
     ]
    }
   ],
   "source": [
    "# Creating a query for the coverage \"AvgLandTemp\"\n",
    "# You can try to write down the equivalent WCPS query as an exercise\n",
    "connection = dbc(\"https://ows.rasdaman.org/rasdaman/ows?&SERVICE=WCS&ACCEPTVERSIONS=2.1.0&REQUEST=GetCapabilities\")\n",
    "query = Query([\"AvgLandTemp\"])\n",
    "datacube = dco(connection, query)\n",
    "\n",
    "print(datacube)"
   ]
  },
  {
   "cell_type": "markdown",
   "metadata": {},
   "source": [
    "### Process a Query of a Datacube\n",
    "\n",
    "Users can process the query they provided to the \"dcp\" object they created. We use the execute_query() method of dco object, which will send the query to rasdaman, get back the result and return it.\n",
    "\n",
    "This returns the data as bytes. This is useful for cases such as image data, however if a scalar value was returned by rasdaman, user needs to decode this data.\n",
    "\n",
    "We can print the received data via the print() function.\n",
    "\n",
    "If the return type of the data is an image (e.g JPEG or PNG), we can utilize the display_result() method of DataVisualizer class to display the data as an image. Note that this will raise an error if the data is a scalar or the server returns back an error message.\n",
    "\n",
    "In our case, we set the query so that it asks for image. Therefore we will use the DataVisualizer."
   ]
  },
  {
   "cell_type": "code",
   "execution_count": 15,
   "metadata": {},
   "outputs": [],
   "source": [
    "datacube.query.set_subset([AxisSubset(\"ansi\", \"2014-07\"),\n",
    "                AxisSubset(\"Lat\", -20, 30),\n",
    "                AxisSubset(\"Long\", -20, 30)])\n",
    "datacube.query.encode(Query.Types.png)\n",
    "response = datacube.connector.execute_query(query) # Can also do datacube.execute_query(query)\n",
    "\n",
    "# Display the result using the DataVisualizer class\n",
    "from wdc import DataVisualizer\n",
    "DataVisualizer().display_result(response)"
   ]
  },
  {
   "cell_type": "markdown",
   "metadata": {},
   "source": [
    "## Final Words\n",
    "\n",
    "This concludes the quick tutorial to using this library. With this library, we can create from simple queries to complex one with coverage constructors and switch cases.\n",
    "\n",
    "With its current capabilities, it allows user to generate WCPS queries with Python and users can manage most of their coverage tasks with this library. There is, of course, more room to improvement, such as implementing user-defined aggregation methods via \"condense\" keyword."
   ]
  }
 ],
 "metadata": {
  "kernelspec": {
   "display_name": "Python 3",
   "language": "python",
   "name": "python3"
  },
  "language_info": {
   "codemirror_mode": {
    "name": "ipython",
    "version": 3
   },
   "file_extension": ".py",
   "mimetype": "text/x-python",
   "name": "python",
   "nbconvert_exporter": "python",
   "pygments_lexer": "ipython3",
   "version": "3.11.2"
  }
 },
 "nbformat": 4,
 "nbformat_minor": 2
}
